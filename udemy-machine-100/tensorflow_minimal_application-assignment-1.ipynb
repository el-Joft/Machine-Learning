{
 "cells": [
  {
   "cell_type": "markdown",
   "metadata": {},
   "source": [
    "Import the relevant libraries which are numpy and Matplotlib"
   ]
  },
  {
   "cell_type": "code",
   "execution_count": 1,
   "metadata": {},
   "outputs": [],
   "source": [
    "# We must always import the relevant libraries for our problem at hand. NumPy is a must for this example.\n",
    "import numpy as np\n",
    "\n",
    "# matplotlib and mpl_toolkits are not necessary. We employ them for the sole purpose of visualizing the results.  \n",
    "from matplotlib import pyplot as plt\n",
    "import tensorflow as tf"
   ]
  },
  {
   "cell_type": "markdown",
   "metadata": {},
   "source": [
    "Generate random input data to train on"
   ]
  },
  {
   "cell_type": "code",
   "execution_count": 2,
   "metadata": {
    "scrolled": true
   },
   "outputs": [
    {
     "name": "stdout",
     "output_type": "stream",
     "text": [
      "(100000, 1)\n"
     ]
    }
   ],
   "source": [
    "# First, we should declare a variable containing the size of the training set we want to generate.\n",
    "## changed the observations to 100000\n",
    "observations = 100000 \n",
    "\n",
    "# We will work with two variables as inputs. You can think about them as x1 and x2 in our previous examples.\n",
    "# We have picked x and z, since it is easier to differentiate them.\n",
    "# We generate them randomly, drawing from an uniform distribution. There are 3 arguments of this method (low, high, size).\n",
    "# The size of xs and zs is observations by 1. In this case: 1000 x 1.\n",
    "xs = np.random.uniform(low=-10, high=10, size=(observations,1))\n",
    "zs = np.random.uniform(-10, 10, (observations,1))\n",
    "\n",
    "# Combine the two dimensions of the input into one input matrix. \n",
    "# This is the X matrix from the linear model y = x*w + b.\n",
    "# column_stack is a Numpy method, which combines two vectors into a matrix. Alternatives are stack, dstack, hstack, etc.\n",
    "generated_inputs = np.column_stack((xs,zs))\n",
    "\n",
    "# Check if the dimensions of the inputs are the same as the ones we defined in the linear model lectures. \n",
    "# They should be n x k, where n is the number of observations, and k is the number of variables, so 1000 x 2.\n",
    "\n",
    "# We add a random small noise to the function i.e. f(x,z) = 2x - 3z + 5 + <small noise>\n",
    "noise = np.random.uniform(-1, 1, (observations,1))\n",
    "\n",
    "# Produce the targets according to our f(x,z) = 2x - 3z + 5 + noise definition.\n",
    "# In this way, we are basically saying: the weights should be 2 and -3, while the bias is 5.\n",
    "generated_targets = 2*xs - 3*zs + 5 + noise\n",
    "\n",
    "np.savez('TF_intro', inputs=generated_inputs, targets=generated_targets)\n",
    "\n",
    "# Check the shape of the targets just in case.\n",
    "print (generated_targets.shape)"
   ]
  },
  {
   "cell_type": "markdown",
   "metadata": {},
   "source": [
    "### Solving with TensorFlow"
   ]
  },
  {
   "cell_type": "code",
   "execution_count": 3,
   "metadata": {},
   "outputs": [],
   "source": [
    "input_size = 2\n",
    "output_size = 1"
   ]
  },
  {
   "cell_type": "markdown",
   "metadata": {},
   "source": [
    "### Outlining the Model"
   ]
  },
  {
   "cell_type": "code",
   "execution_count": 4,
   "metadata": {},
   "outputs": [],
   "source": [
    "inputs = tf.placeholder(tf.float32, [None, input_size])\n",
    "targets = tf.placeholder(tf.float32, [None, output_size])\n",
    "# create the weights and the biases\n",
    "weights = tf.Variable(tf.random_uniform([input_size, output_size], minval=-0.1, maxval=0.1))\n",
    "biases = tf.Variable(tf.random_uniform([output_size], minval=-0.1, maxval=0.1))\n",
    "\n",
    "outputs = tf.matmul(inputs, weights) + biases"
   ]
  },
  {
   "cell_type": "markdown",
   "metadata": {},
   "source": [
    "### Choosing the objective function and Optimization Algorithm/Method"
   ]
  },
  {
   "cell_type": "code",
   "execution_count": 5,
   "metadata": {
    "scrolled": true
   },
   "outputs": [
    {
     "name": "stderr",
     "output_type": "stream",
     "text": [
      "WARNING: Logging before flag parsing goes to stderr.\n",
      "W0816 12:54:52.681084 4592993728 deprecation.py:323] From /Users/timothyfehintolu/anaconda3/lib/python3.7/site-packages/tensorflow/python/ops/losses/losses_impl.py:121: add_dispatch_support.<locals>.wrapper (from tensorflow.python.ops.array_ops) is deprecated and will be removed in a future version.\n",
      "Instructions for updating:\n",
      "Use tf.where in 2.0, which has the same broadcast rule as np.where\n"
     ]
    }
   ],
   "source": [
    "# mean_loss = tf.losses.mean_squared_error(labels=targets, predictions=outputs)/2\n",
    "# use huber_loss instead of the L2 norm loss\n",
    "\n",
    "# tf.losses.huber_loss(labels, predictions).\n",
    "huber_loss = tf.losses.huber_loss(labels=targets, predictions=outputs)\n",
    "\n",
    "# changed the learning rate to 0.0001\n",
    "optimize = tf.train.GradientDescentOptimizer(learning_rate=0.0001).minimize(huber_loss)"
   ]
  },
  {
   "cell_type": "markdown",
   "metadata": {},
   "source": [
    "### Prepare for Execution"
   ]
  },
  {
   "cell_type": "code",
   "execution_count": 6,
   "metadata": {},
   "outputs": [],
   "source": [
    "sess = tf.InteractiveSession()"
   ]
  },
  {
   "cell_type": "markdown",
   "metadata": {},
   "source": [
    "### Initializing Variables"
   ]
  },
  {
   "cell_type": "code",
   "execution_count": 7,
   "metadata": {},
   "outputs": [],
   "source": [
    "initializer = tf.global_variables_initializer()\n",
    "sess.run(initializer)"
   ]
  },
  {
   "cell_type": "markdown",
   "metadata": {},
   "source": [
    "### Loading training data"
   ]
  },
  {
   "cell_type": "code",
   "execution_count": 8,
   "metadata": {},
   "outputs": [],
   "source": [
    "training_data = np.load('TF_intro.npz')"
   ]
  },
  {
   "cell_type": "markdown",
   "metadata": {},
   "source": [
    "### Learning\n",
    "feed_dict tells the algorithm how the data is going to be fed. it is a placeholder"
   ]
  },
  {
   "cell_type": "code",
   "execution_count": 9,
   "metadata": {},
   "outputs": [
    {
     "name": "stdout",
     "output_type": "stream",
     "text": [
      "17.507793\n",
      "17.50561\n",
      "17.503424\n",
      "17.50124\n",
      "17.499054\n",
      "17.49687\n",
      "17.494684\n",
      "17.492502\n",
      "17.490316\n",
      "17.488132\n",
      "17.485949\n",
      "17.483763\n",
      "17.481579\n",
      "17.479393\n",
      "17.47721\n",
      "17.475025\n",
      "17.472843\n",
      "17.47066\n",
      "17.468475\n",
      "17.46629\n",
      "17.464106\n",
      "17.461926\n",
      "17.459738\n",
      "17.457552\n",
      "17.455372\n",
      "17.453188\n",
      "17.451006\n",
      "17.44882\n",
      "17.446638\n",
      "17.44445\n",
      "17.442268\n",
      "17.440084\n",
      "17.4379\n",
      "17.435717\n",
      "17.433535\n",
      "17.43135\n",
      "17.429167\n",
      "17.426983\n",
      "17.4248\n",
      "17.422617\n",
      "17.420435\n",
      "17.41825\n",
      "17.416067\n",
      "17.413883\n",
      "17.411701\n",
      "17.409517\n",
      "17.407335\n",
      "17.405153\n",
      "17.40297\n",
      "17.400785\n",
      "17.398603\n",
      "17.39642\n",
      "17.394238\n",
      "17.392054\n",
      "17.389874\n",
      "17.38769\n",
      "17.385506\n",
      "17.383326\n",
      "17.381142\n",
      "17.37896\n",
      "17.376778\n",
      "17.374594\n",
      "17.372412\n",
      "17.370228\n",
      "17.368048\n",
      "17.365866\n",
      "17.363682\n",
      "17.3615\n",
      "17.359318\n",
      "17.357136\n",
      "17.354952\n",
      "17.35277\n",
      "17.350588\n",
      "17.348406\n",
      "17.346226\n",
      "17.344042\n",
      "17.341858\n",
      "17.339678\n",
      "17.337496\n",
      "17.335316\n",
      "17.333132\n",
      "17.33095\n",
      "17.328768\n",
      "17.326588\n",
      "17.324406\n",
      "17.322226\n",
      "17.320042\n",
      "17.31786\n",
      "17.31568\n",
      "17.313498\n",
      "17.311316\n",
      "17.309135\n",
      "17.306953\n",
      "17.304773\n",
      "17.30259\n",
      "17.30041\n",
      "17.29823\n",
      "17.296045\n",
      "17.293865\n",
      "17.291683\n"
     ]
    }
   ],
   "source": [
    "for e in range(100):\n",
    "    # note that the training data consist of the inputs and targets\n",
    "    # the code below run the optimize and mean_loss operations by filling the placeholder\n",
    "    # objects with data specified in the feed_dict parameter\n",
    "    # curl_loss should return something for the mean loss. optimize output is always none \n",
    "    # this is the reason an _ is added to disregard the return value of a function\n",
    "    _, curr_loss = sess.run([optimize, huber_loss], \n",
    "                            feed_dict= {inputs: training_data['inputs'], targets: training_data['targets']})\n",
    "    print(curr_loss)"
   ]
  },
  {
   "cell_type": "markdown",
   "metadata": {},
   "source": [
    "### Plotting the data"
   ]
  },
  {
   "cell_type": "code",
   "execution_count": 10,
   "metadata": {},
   "outputs": [
    {
     "data": {
      "image/png": "[encoded data removed]",
      "text/plain": [
       "<Figure size 432x288 with 1 Axes>"
      ]
     },
     "metadata": {
      "needs_background": "light"
     },
     "output_type": "display_data"
    }
   ],
   "source": [
    "out = sess.run([outputs], feed_dict={inputs: training_data['inputs']})\n",
    "plt.plot(np.squeeze(out), np.squeeze(training_data['targets']))\n",
    "plt.xlabel('outputs')\n",
    "plt.ylabel('targets')\n",
    "plt.show()"
   ]
  },
  {
   "cell_type": "code",
   "execution_count": null,
   "metadata": {},
   "outputs": [],
   "source": []
  }
 ],
 "metadata": {
  "kernelspec": {
   "display_name": "Python 3",
   "language": "python",
   "name": "python3"
  },
  "language_info": {
   "codemirror_mode": {
    "name": "ipython",
    "version": 3
   },
   "file_extension": ".py",
   "mimetype": "text/x-python",
   "name": "python",
   "nbconvert_exporter": "python",
   "pygments_lexer": "ipython3",
   "version": "3.7.3"
  }
 },
 "nbformat": 4,
 "nbformat_minor": 2
}
