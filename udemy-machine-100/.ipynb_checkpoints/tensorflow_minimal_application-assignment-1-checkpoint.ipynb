{
 "cells": [
  {
   "cell_type": "markdown",
   "metadata": {},
   "source": [
    "Import the relevant libraries which are numpy and Matplotlib"
   ]
  },
  {
   "cell_type": "code",
   "execution_count": 1,
   "metadata": {},
   "outputs": [],
   "source": [
    "# We must always import the relevant libraries for our problem at hand. NumPy is a must for this example.\n",
    "import numpy as np\n",
    "\n",
    "# matplotlib and mpl_toolkits are not necessary. We employ them for the sole purpose of visualizing the results.  \n",
    "from matplotlib import pyplot as plt\n",
    "import tensorflow as tf"
   ]
  },
  {
   "cell_type": "markdown",
   "metadata": {},
   "source": [
    "Generate random input data to train on"
   ]
  },
  {
   "cell_type": "code",
   "execution_count": 2,
   "metadata": {
    "scrolled": true
   },
   "outputs": [
    {
     "name": "stdout",
     "output_type": "stream",
     "text": [
      "(1000, 1)\n"
     ]
    }
   ],
   "source": [
    "# First, we should declare a variable containing the size of the training set we want to generate.\n",
    "observations = 1000\n",
    "\n",
    "# We will work with two variables as inputs. You can think about them as x1 and x2 in our previous examples.\n",
    "# We have picked x and z, since it is easier to differentiate them.\n",
    "# We generate them randomly, drawing from an uniform distribution. There are 3 arguments of this method (low, high, size).\n",
    "# The size of xs and zs is observations by 1. In this case: 1000 x 1.\n",
    "xs = np.random.uniform(low=-10, high=10, size=(observations,1))\n",
    "zs = np.random.uniform(-10, 10, (observations,1))\n",
    "\n",
    "# Combine the two dimensions of the input into one input matrix. \n",
    "# This is the X matrix from the linear model y = x*w + b.\n",
    "# column_stack is a Numpy method, which combines two vectors into a matrix. Alternatives are stack, dstack, hstack, etc.\n",
    "generated_inputs = np.column_stack((xs,zs))\n",
    "\n",
    "# Check if the dimensions of the inputs are the same as the ones we defined in the linear model lectures. \n",
    "# They should be n x k, where n is the number of observations, and k is the number of variables, so 1000 x 2.\n",
    "\n",
    "# We add a random small noise to the function i.e. f(x,z) = 2x - 3z + 5 + <small noise>\n",
    "noise = np.random.uniform(-1, 1, (observations,1))\n",
    "\n",
    "# Produce the targets according to our f(x,z) = 2x - 3z + 5 + noise definition.\n",
    "# In this way, we are basically saying: the weights should be 2 and -3, while the bias is 5.\n",
    "generated_targets = 2*xs - 3*zs + 5 + noise\n",
    "\n",
    "np.savez('TF_intro', inputs=generated_inputs, targets=generated_targets)\n",
    "\n",
    "# Check the shape of the targets just in case.\n",
    "print (generated_targets.shape)"
   ]
  },
  {
   "cell_type": "markdown",
   "metadata": {},
   "source": [
    "### Solving with TensorFlow"
   ]
  },
  {
   "cell_type": "code",
   "execution_count": 3,
   "metadata": {},
   "outputs": [],
   "source": [
    "input_size = 2\n",
    "output_size = 1"
   ]
  },
  {
   "cell_type": "markdown",
   "metadata": {},
   "source": [
    "### Outlining the Model"
   ]
  },
  {
   "cell_type": "code",
   "execution_count": 4,
   "metadata": {},
   "outputs": [],
   "source": [
    "inputs = tf.placeholder(tf.float32, [None, input_size])\n",
    "targets = tf.placeholder(tf.float32, [None, output_size])\n",
    "# create the weights and the biases\n",
    "weights = tf.Variable(tf.random_uniform([input_size, output_size], minval=-0.1, maxval=0.1))\n",
    "biases = tf.Variable(tf.random_uniform([output_size], minval=-0.1, maxval=0.1))\n",
    "\n",
    "outputs = tf.matmul(inputs, weights) + biases"
   ]
  },
  {
   "cell_type": "markdown",
   "metadata": {},
   "source": [
    "### Choosing the objective function and Optimization Algorithm/Method"
   ]
  },
  {
   "cell_type": "code",
   "execution_count": 5,
   "metadata": {
    "scrolled": true
   },
   "outputs": [
    {
     "name": "stderr",
     "output_type": "stream",
     "text": [
      "WARNING: Logging before flag parsing goes to stderr.\n",
      "W0816 11:46:14.678647 4460402112 deprecation.py:323] From /Users/timothyfehintolu/anaconda3/lib/python3.7/site-packages/tensorflow/python/ops/losses/losses_impl.py:121: add_dispatch_support.<locals>.wrapper (from tensorflow.python.ops.array_ops) is deprecated and will be removed in a future version.\n",
      "Instructions for updating:\n",
      "Use tf.where in 2.0, which has the same broadcast rule as np.where\n"
     ]
    }
   ],
   "source": [
    "mean_loss = tf.losses.mean_squared_error(labels=targets, predictions=outputs)/2\n",
    "\n",
    "optimize = tf.train.GradientDescentOptimizer(learning_rate=0.05).minimize(mean_loss)"
   ]
  },
  {
   "cell_type": "markdown",
   "metadata": {},
   "source": [
    "### Prepare for Execution"
   ]
  },
  {
   "cell_type": "code",
   "execution_count": 6,
   "metadata": {},
   "outputs": [],
   "source": [
    "sess = tf.InteractiveSession()"
   ]
  },
  {
   "cell_type": "markdown",
   "metadata": {},
   "source": [
    "### Initializing Variables"
   ]
  },
  {
   "cell_type": "code",
   "execution_count": 7,
   "metadata": {},
   "outputs": [],
   "source": [
    "initializer = tf.global_variables_initializer()\n",
    "sess.run(initializer)"
   ]
  },
  {
   "cell_type": "markdown",
   "metadata": {},
   "source": [
    "### Loading training data"
   ]
  },
  {
   "cell_type": "code",
   "execution_count": 8,
   "metadata": {},
   "outputs": [],
   "source": [
    "training_data = np.load('TF_intro.npz')"
   ]
  },
  {
   "cell_type": "markdown",
   "metadata": {},
   "source": [
    "### Learning\n",
    "feed_dict tells the algorithm how the data is going to be fed. it is a placeholder"
   ]
  },
  {
   "cell_type": "code",
   "execution_count": 9,
   "metadata": {},
   "outputs": [
    {
     "name": "stdout",
     "output_type": "stream",
     "text": [
      "206.73235\n",
      "66.01664\n",
      "26.903997\n",
      "14.856097\n",
      "10.449048\n",
      "8.408893\n",
      "7.2064114\n",
      "6.354554\n",
      "5.679091\n",
      "5.1093826\n",
      "4.613025\n",
      "4.173205\n",
      "3.7800403\n",
      "3.4269655\n",
      "3.1091323\n",
      "2.8226647\n",
      "2.5642989\n",
      "2.3311963\n",
      "2.1208496\n",
      "1.9310195\n",
      "1.7596976\n",
      "1.6050738\n",
      "1.4655207\n",
      "1.3395661\n",
      "1.2258862\n",
      "1.1232839\n",
      "1.030679\n",
      "0.9470985\n",
      "0.871663\n",
      "0.80357754\n",
      "0.7421273\n",
      "0.6866644\n",
      "0.6366066\n",
      "0.59142643\n",
      "0.55064905\n",
      "0.51384544\n",
      "0.48062775\n",
      "0.45064726\n",
      "0.42358804\n",
      "0.39916572\n",
      "0.37712312\n",
      "0.3572284\n",
      "0.3392726\n",
      "0.32306626\n",
      "0.30843896\n",
      "0.2952372\n",
      "0.28332192\n",
      "0.27256763\n",
      "0.26286128\n",
      "0.2541008\n",
      "0.24619377\n",
      "0.23905756\n",
      "0.23261651\n",
      "0.22680332\n",
      "0.2215564\n",
      "0.21682093\n",
      "0.2125468\n",
      "0.20868926\n",
      "0.20520748\n",
      "0.2020651\n",
      "0.19922891\n",
      "0.1966691\n",
      "0.1943587\n",
      "0.1922735\n",
      "0.19039135\n",
      "0.18869275\n",
      "0.1871596\n",
      "0.18577588\n",
      "0.18452695\n",
      "0.18339978\n",
      "0.18238239\n",
      "0.18146417\n",
      "0.18063544\n",
      "0.17988743\n",
      "0.1792124\n",
      "0.17860307\n",
      "0.1780531\n",
      "0.1775568\n",
      "0.1771087\n",
      "0.17670445\n",
      "0.17633957\n",
      "0.17601016\n",
      "0.17571291\n",
      "0.17544457\n",
      "0.17520241\n",
      "0.17498386\n",
      "0.1747866\n",
      "0.17460853\n",
      "0.17444785\n",
      "0.17430283\n",
      "0.1741719\n",
      "0.17405371\n",
      "0.17394711\n",
      "0.17385085\n",
      "0.173764\n",
      "0.1736856\n",
      "0.17361487\n",
      "0.173551\n",
      "0.1734933\n",
      "0.17344132\n"
     ]
    }
   ],
   "source": [
    "for e in range(100):\n",
    "    # note that the training data consist of the inputs and targets\n",
    "    # the code below run the optimize and mean_loss operations by filling the placeholder\n",
    "    # objects with data specified in the feed_dict parameter\n",
    "    # curl_loss should return something for the mean loss. optimize output is always none \n",
    "    # this is the reason an _ is added to disregard the return value of a function\n",
    "    _, curr_loss = sess.run([optimize, mean_loss], \n",
    "                            feed_dict= {inputs: training_data['inputs'], targets: training_data['targets']})\n",
    "    print(curr_loss)"
   ]
  },
  {
   "cell_type": "markdown",
   "metadata": {},
   "source": [
    "### Plotting the data"
   ]
  },
  {
   "cell_type": "code",
   "execution_count": 10,
   "metadata": {},
   "outputs": [
    {
     "data": {
      "image/png": "[encoded data removed]",
      "text/plain": [
       "<Figure size 432x288 with 1 Axes>"
      ]
     },
     "metadata": {
      "needs_background": "light"
     },
     "output_type": "display_data"
    }
   ],
   "source": [
    "out = sess.run([outputs], feed_dict={inputs: training_data['inputs']})\n",
    "plt.plot(np.squeeze(out), np.squeeze(training_data['targets']))\n",
    "plt.xlabel('outputs')\n",
    "plt.ylabel('targets')\n",
    "plt.show()"
   ]
  },
  {
   "cell_type": "code",
   "execution_count": null,
   "metadata": {},
   "outputs": [],
   "source": []
  }
 ],
 "metadata": {
  "kernelspec": {
   "display_name": "Python 3",
   "language": "python",
   "name": "python3"
  },
  "language_info": {
   "codemirror_mode": {
    "name": "ipython",
    "version": 3
   },
   "file_extension": ".py",
   "mimetype": "text/x-python",
   "name": "python",
   "nbconvert_exporter": "python",
   "pygments_lexer": "ipython3",
   "version": "3.7.3"
  }
 },
 "nbformat": 4,
 "nbformat_minor": 2
}
