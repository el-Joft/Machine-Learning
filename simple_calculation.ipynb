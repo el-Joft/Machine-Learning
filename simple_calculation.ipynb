{
  "nbformat": 4,
  "nbformat_minor": 0,
  "metadata": {
    "colab": {
      "name": "simple_calculation.ipynb",
      "provenance": [],
      "authorship_tag": "ABX9TyM4ptHyvBAw6BxAZfoMBf/6",
      "include_colab_link": true
    },
    "kernelspec": {
      "name": "python3",
      "display_name": "Python 3"
    }
  },
  "cells": [
    {
      "cell_type": "markdown",
      "metadata": {
        "id": "view-in-github",
        "colab_type": "text"
      },
      "source": [
        "<a href=\"https://colab.research.google.com/github/el-Joft/Machine-Learning/blob/zero-to-hero/simple_calculation.ipynb\" target=\"_parent\"><img src=\"https://colab.research.google.com/assets/colab-badge.svg\" alt=\"Open In Colab\"/></a>"
      ]
    },
    {
      "cell_type": "code",
      "metadata": {
        "id": "QQG4YYWPYQBl",
        "colab_type": "code",
        "colab": {}
      },
      "source": [
        "import keras\n",
        "import numpy as np"
      ],
      "execution_count": 0,
      "outputs": []
    },
    {
      "cell_type": "code",
      "metadata": {
        "id": "Gv8JxybXYV_G",
        "colab_type": "code",
        "colab": {}
      },
      "source": [
        "# define the model\n",
        "model = keras.Sequential([keras.layers.Dense(units=1, input_shape=[1])])\n",
        "\n",
        "# declare the compile, which specifies the optimizer, the funtion to\n",
        "# generate another guess and the loss function to calculate how good\n",
        "# or bad the guess is\n",
        "model.compile(optimizer='sgd', loss='mean_squared_error')"
      ],
      "execution_count": 0,
      "outputs": []
    },
    {
      "cell_type": "code",
      "metadata": {
        "id": "zRFlnpN3YohJ",
        "colab_type": "code",
        "colab": {}
      },
      "source": [
        "# Define the data \n",
        "xs = np.array([-1.0, 0.0, 1.0, 2.0, 3.0, 4.0], dtype=float)\n",
        "xy = np.array([-3.0, -1.0, 1.0, 3.0, 5.0, 7.0], dtype=float)"
      ],
      "execution_count": 0,
      "outputs": []
    },
    {
      "cell_type": "code",
      "metadata": {
        "id": "ld8gKZMzZjDi",
        "colab_type": "code",
        "colab": {
          "base_uri": "https://localhost:8080/",
          "height": 69
        },
        "outputId": "ebffb72a-8826-44cd-aa4a-ca627b2dbab6"
      },
      "source": [
        "# state the fit\n",
        "model.fit(xs,xy, epochs=500)\n",
        "print(model.predict([10.0]))"
      ],
      "execution_count": 13,
      "outputs": [
        {
          "output_type": "stream",
          "text": [
            "Epoch 1/1\n",
            "\r6/6 [==============================] - 0s 6ms/step - loss: 35.0132\n",
            "[[-5.990321]]\n"
          ],
          "name": "stdout"
        }
      ]
    }
  ]
}